{
 "cells": [
  {
   "cell_type": "markdown",
   "id": "da513be1",
   "metadata": {},
   "source": [
    "# IMPORTANDO BIBLIOTECAS"
   ]
  },
  {
   "cell_type": "code",
   "execution_count": 2,
   "id": "d828edc7",
   "metadata": {},
   "outputs": [],
   "source": [
    "import mysql.connector\n",
    "import os\n",
    "import pandas as pd"
   ]
  },
  {
   "cell_type": "markdown",
   "id": "f67e5b7d",
   "metadata": {},
   "source": [
    "# IMPORTANDO DF PANDAS"
   ]
  },
  {
   "cell_type": "code",
   "execution_count": 3,
   "id": "7f1bc8ad",
   "metadata": {},
   "outputs": [],
   "source": [
    "df = pd.read_csv(\"/home/antonio/dados_jogadores.csv\",sep=';')"
   ]
  },
  {
   "cell_type": "markdown",
   "id": "a678a9e7",
   "metadata": {},
   "source": [
    "# VENDO VALORES NULOS"
   ]
  },
  {
   "cell_type": "code",
   "execution_count": 4,
   "id": "e53364c3",
   "metadata": {},
   "outputs": [
    {
     "data": {
      "text/plain": [
       "jogador            0\n",
       "genero             0\n",
       "data_nascimento    0\n",
       "jogo               0\n",
       "pais               0\n",
       "num_vitorias       8\n",
       "num_derrotas       5\n",
       "total_partidas     8\n",
       "dtype: int64"
      ]
     },
     "execution_count": 4,
     "metadata": {},
     "output_type": "execute_result"
    }
   ],
   "source": [
    "df.isna().sum()"
   ]
  },
  {
   "cell_type": "markdown",
   "id": "53a4627d",
   "metadata": {},
   "source": [
    "# VENDO SE OS VALORES NULOS SÃO INCAPACITANTES"
   ]
  },
  {
   "cell_type": "code",
   "execution_count": 5,
   "id": "57044838",
   "metadata": {},
   "outputs": [
    {
     "data": {
      "text/plain": [
       "0"
      ]
     },
     "execution_count": 5,
     "metadata": {},
     "output_type": "execute_result"
    }
   ],
   "source": [
    "df.loc[(df.total_partidas.isnull())&(df.num_derrotas.isnull()),'jogador'].count()"
   ]
  },
  {
   "cell_type": "markdown",
   "id": "2ecb9259",
   "metadata": {},
   "source": [
    "# VENDO QUAIS SÃO OS VALORES NULOS"
   ]
  },
  {
   "cell_type": "code",
   "execution_count": 6,
   "id": "9c211a65",
   "metadata": {},
   "outputs": [
    {
     "data": {
      "text/html": [
       "<div>\n",
       "<style scoped>\n",
       "    .dataframe tbody tr th:only-of-type {\n",
       "        vertical-align: middle;\n",
       "    }\n",
       "\n",
       "    .dataframe tbody tr th {\n",
       "        vertical-align: top;\n",
       "    }\n",
       "\n",
       "    .dataframe thead th {\n",
       "        text-align: right;\n",
       "    }\n",
       "</style>\n",
       "<table border=\"1\" class=\"dataframe\">\n",
       "  <thead>\n",
       "    <tr style=\"text-align: right;\">\n",
       "      <th></th>\n",
       "      <th>jogador</th>\n",
       "      <th>genero</th>\n",
       "      <th>data_nascimento</th>\n",
       "      <th>jogo</th>\n",
       "      <th>pais</th>\n",
       "      <th>num_vitorias</th>\n",
       "      <th>num_derrotas</th>\n",
       "      <th>total_partidas</th>\n",
       "    </tr>\n",
       "  </thead>\n",
       "  <tbody>\n",
       "    <tr>\n",
       "      <th>71</th>\n",
       "      <td>Jogador 72</td>\n",
       "      <td>Masculino</td>\n",
       "      <td>27/03/2005</td>\n",
       "      <td>Dama</td>\n",
       "      <td>Paraguai</td>\n",
       "      <td>29.0</td>\n",
       "      <td>7.0</td>\n",
       "      <td>NaN</td>\n",
       "    </tr>\n",
       "    <tr>\n",
       "      <th>86</th>\n",
       "      <td>Jogador 87</td>\n",
       "      <td>Feminino</td>\n",
       "      <td>25/05/1975</td>\n",
       "      <td>Dama</td>\n",
       "      <td>Argentina</td>\n",
       "      <td>80.0</td>\n",
       "      <td>6.0</td>\n",
       "      <td>NaN</td>\n",
       "    </tr>\n",
       "    <tr>\n",
       "      <th>246</th>\n",
       "      <td>Jogador 247</td>\n",
       "      <td>Feminino</td>\n",
       "      <td>14/02/1954</td>\n",
       "      <td>Dama</td>\n",
       "      <td>Argentina</td>\n",
       "      <td>33.0</td>\n",
       "      <td>NaN</td>\n",
       "      <td>89.0</td>\n",
       "    </tr>\n",
       "    <tr>\n",
       "      <th>255</th>\n",
       "      <td>Jogador 256</td>\n",
       "      <td>Feminino</td>\n",
       "      <td>28/09/2000</td>\n",
       "      <td>Xadrez</td>\n",
       "      <td>Chile</td>\n",
       "      <td>1.0</td>\n",
       "      <td>NaN</td>\n",
       "      <td>73.0</td>\n",
       "    </tr>\n",
       "    <tr>\n",
       "      <th>287</th>\n",
       "      <td>Jogador 288</td>\n",
       "      <td>Masculino</td>\n",
       "      <td>01/02/1952</td>\n",
       "      <td>Xadrez</td>\n",
       "      <td>Brasil</td>\n",
       "      <td>3.0</td>\n",
       "      <td>NaN</td>\n",
       "      <td>17.0</td>\n",
       "    </tr>\n",
       "    <tr>\n",
       "      <th>336</th>\n",
       "      <td>Jogador 337</td>\n",
       "      <td>Masculino</td>\n",
       "      <td>13/06/1996</td>\n",
       "      <td>Dama</td>\n",
       "      <td>Argentina</td>\n",
       "      <td>36.0</td>\n",
       "      <td>NaN</td>\n",
       "      <td>64.0</td>\n",
       "    </tr>\n",
       "    <tr>\n",
       "      <th>407</th>\n",
       "      <td>Jogador 408</td>\n",
       "      <td>Feminino</td>\n",
       "      <td>23/11/1970</td>\n",
       "      <td>Xadrez</td>\n",
       "      <td>Brasil</td>\n",
       "      <td>54.0</td>\n",
       "      <td>28.0</td>\n",
       "      <td>NaN</td>\n",
       "    </tr>\n",
       "    <tr>\n",
       "      <th>423</th>\n",
       "      <td>Jogador 424</td>\n",
       "      <td>Masculino</td>\n",
       "      <td>21/08/1998</td>\n",
       "      <td>Dama</td>\n",
       "      <td>Paraguai</td>\n",
       "      <td>47.0</td>\n",
       "      <td>30.0</td>\n",
       "      <td>NaN</td>\n",
       "    </tr>\n",
       "    <tr>\n",
       "      <th>453</th>\n",
       "      <td>Jogador 454</td>\n",
       "      <td>Feminino</td>\n",
       "      <td>21/10/2000</td>\n",
       "      <td>Dama</td>\n",
       "      <td>Paraguai</td>\n",
       "      <td>15.0</td>\n",
       "      <td>42.0</td>\n",
       "      <td>NaN</td>\n",
       "    </tr>\n",
       "    <tr>\n",
       "      <th>458</th>\n",
       "      <td>Jogador 459</td>\n",
       "      <td>Masculino</td>\n",
       "      <td>17/06/1999</td>\n",
       "      <td>Jogo da velha</td>\n",
       "      <td>Argentina</td>\n",
       "      <td>23.0</td>\n",
       "      <td>50.0</td>\n",
       "      <td>NaN</td>\n",
       "    </tr>\n",
       "    <tr>\n",
       "      <th>473</th>\n",
       "      <td>Jogador 474</td>\n",
       "      <td>Feminino</td>\n",
       "      <td>22/10/1977</td>\n",
       "      <td>Xadrez</td>\n",
       "      <td>Uruguai</td>\n",
       "      <td>24.0</td>\n",
       "      <td>4.0</td>\n",
       "      <td>NaN</td>\n",
       "    </tr>\n",
       "    <tr>\n",
       "      <th>490</th>\n",
       "      <td>Jogador 491</td>\n",
       "      <td>Masculino</td>\n",
       "      <td>27/05/1981</td>\n",
       "      <td>Dama</td>\n",
       "      <td>Argentina</td>\n",
       "      <td>16.0</td>\n",
       "      <td>1.0</td>\n",
       "      <td>NaN</td>\n",
       "    </tr>\n",
       "    <tr>\n",
       "      <th>496</th>\n",
       "      <td>Jogador 497</td>\n",
       "      <td>Masculino</td>\n",
       "      <td>06/01/1962</td>\n",
       "      <td>Jogo da velha</td>\n",
       "      <td>Argentina</td>\n",
       "      <td>57.0</td>\n",
       "      <td>NaN</td>\n",
       "      <td>80.0</td>\n",
       "    </tr>\n",
       "  </tbody>\n",
       "</table>\n",
       "</div>"
      ],
      "text/plain": [
       "         jogador     genero data_nascimento           jogo       pais  \\\n",
       "71    Jogador 72  Masculino      27/03/2005           Dama   Paraguai   \n",
       "86    Jogador 87   Feminino      25/05/1975           Dama  Argentina   \n",
       "246  Jogador 247   Feminino      14/02/1954           Dama  Argentina   \n",
       "255  Jogador 256   Feminino      28/09/2000         Xadrez      Chile   \n",
       "287  Jogador 288  Masculino      01/02/1952         Xadrez     Brasil   \n",
       "336  Jogador 337  Masculino      13/06/1996           Dama  Argentina   \n",
       "407  Jogador 408   Feminino      23/11/1970         Xadrez     Brasil   \n",
       "423  Jogador 424  Masculino      21/08/1998           Dama   Paraguai   \n",
       "453  Jogador 454   Feminino      21/10/2000           Dama   Paraguai   \n",
       "458  Jogador 459  Masculino      17/06/1999  Jogo da velha  Argentina   \n",
       "473  Jogador 474   Feminino      22/10/1977         Xadrez    Uruguai   \n",
       "490  Jogador 491  Masculino      27/05/1981           Dama  Argentina   \n",
       "496  Jogador 497  Masculino      06/01/1962  Jogo da velha  Argentina   \n",
       "\n",
       "     num_vitorias  num_derrotas  total_partidas  \n",
       "71           29.0           7.0             NaN  \n",
       "86           80.0           6.0             NaN  \n",
       "246          33.0           NaN            89.0  \n",
       "255           1.0           NaN            73.0  \n",
       "287           3.0           NaN            17.0  \n",
       "336          36.0           NaN            64.0  \n",
       "407          54.0          28.0             NaN  \n",
       "423          47.0          30.0             NaN  \n",
       "453          15.0          42.0             NaN  \n",
       "458          23.0          50.0             NaN  \n",
       "473          24.0           4.0             NaN  \n",
       "490          16.0           1.0             NaN  \n",
       "496          57.0           NaN            80.0  "
      ]
     },
     "execution_count": 6,
     "metadata": {},
     "output_type": "execute_result"
    }
   ],
   "source": [
    "df.loc[(df.total_partidas.isnull())|(df.num_derrotas.isnull())]"
   ]
  },
  {
   "cell_type": "markdown",
   "id": "5c39bd06",
   "metadata": {},
   "source": [
    "# PREENCHENDO OS VALORES NULOS"
   ]
  },
  {
   "cell_type": "code",
   "execution_count": 7,
   "id": "a0152382",
   "metadata": {},
   "outputs": [],
   "source": [
    "df.loc[df.total_partidas.isnull(),'total_partidas'] = df.num_vitorias+df.num_derrotas\n",
    "df.loc[df.num_derrotas.isnull(),'num_derrotas'] = df.total_partidas - df.num_vitorias\n",
    "df.loc[df.num_vitorias.isnull(),'num_vitorias'] = df.total_partidas - df.num_derrotas"
   ]
  },
  {
   "cell_type": "markdown",
   "id": "ac4e5544",
   "metadata": {},
   "source": [
    "# VERIFICANDO SE OS VALORES NULOS FORAM ALTERADOS"
   ]
  },
  {
   "cell_type": "code",
   "execution_count": 10,
   "id": "6688896f",
   "metadata": {},
   "outputs": [
    {
     "data": {
      "text/plain": [
       "jogador            0\n",
       "genero             0\n",
       "data_nascimento    0\n",
       "jogo               0\n",
       "pais               0\n",
       "num_vitorias       0\n",
       "num_derrotas       0\n",
       "total_partidas     0\n",
       "dtype: int64"
      ]
     },
     "execution_count": 10,
     "metadata": {},
     "output_type": "execute_result"
    }
   ],
   "source": [
    "df.isna().sum()"
   ]
  },
  {
   "cell_type": "markdown",
   "id": "6befd5e3",
   "metadata": {},
   "source": [
    "# GARANTIDO UM PADRÃO DE ESCRITA"
   ]
  },
  {
   "cell_type": "code",
   "execution_count": 11,
   "id": "db2d94fe",
   "metadata": {},
   "outputs": [],
   "source": [
    "df.jogador = df.jogador.str.upper()\n",
    "df.genero = df.genero.str.upper()\n",
    "df.jogo = df.jogo.str.upper()\n",
    "df.pais = df.pais.str.upper()"
   ]
  },
  {
   "cell_type": "markdown",
   "id": "03fe8d5e",
   "metadata": {},
   "source": [
    "# VENO O DF RESULTANTE"
   ]
  },
  {
   "cell_type": "code",
   "execution_count": 12,
   "id": "d3bd6d4e",
   "metadata": {},
   "outputs": [
    {
     "data": {
      "text/html": [
       "<div>\n",
       "<style scoped>\n",
       "    .dataframe tbody tr th:only-of-type {\n",
       "        vertical-align: middle;\n",
       "    }\n",
       "\n",
       "    .dataframe tbody tr th {\n",
       "        vertical-align: top;\n",
       "    }\n",
       "\n",
       "    .dataframe thead th {\n",
       "        text-align: right;\n",
       "    }\n",
       "</style>\n",
       "<table border=\"1\" class=\"dataframe\">\n",
       "  <thead>\n",
       "    <tr style=\"text-align: right;\">\n",
       "      <th></th>\n",
       "      <th>jogador</th>\n",
       "      <th>genero</th>\n",
       "      <th>data_nascimento</th>\n",
       "      <th>jogo</th>\n",
       "      <th>pais</th>\n",
       "      <th>num_vitorias</th>\n",
       "      <th>num_derrotas</th>\n",
       "      <th>total_partidas</th>\n",
       "    </tr>\n",
       "  </thead>\n",
       "  <tbody>\n",
       "    <tr>\n",
       "      <th>0</th>\n",
       "      <td>JOGADOR 1</td>\n",
       "      <td>MASCULINO</td>\n",
       "      <td>03/09/1990</td>\n",
       "      <td>DAMA</td>\n",
       "      <td>CHILE</td>\n",
       "      <td>14.0</td>\n",
       "      <td>0.0</td>\n",
       "      <td>14.0</td>\n",
       "    </tr>\n",
       "    <tr>\n",
       "      <th>1</th>\n",
       "      <td>JOGADOR 2</td>\n",
       "      <td>FEMININO</td>\n",
       "      <td>01/05/1986</td>\n",
       "      <td>JOGO DA VELHA</td>\n",
       "      <td>CHILE</td>\n",
       "      <td>39.0</td>\n",
       "      <td>20.0</td>\n",
       "      <td>59.0</td>\n",
       "    </tr>\n",
       "    <tr>\n",
       "      <th>2</th>\n",
       "      <td>JOGADOR 3</td>\n",
       "      <td>MASCULINO</td>\n",
       "      <td>04/10/1964</td>\n",
       "      <td>JOGO DA VELHA</td>\n",
       "      <td>BRASIL</td>\n",
       "      <td>26.0</td>\n",
       "      <td>3.0</td>\n",
       "      <td>29.0</td>\n",
       "    </tr>\n",
       "    <tr>\n",
       "      <th>3</th>\n",
       "      <td>JOGADOR 4</td>\n",
       "      <td>MASCULINO</td>\n",
       "      <td>28/09/1979</td>\n",
       "      <td>JOGO DA VELHA</td>\n",
       "      <td>ARGENTINA</td>\n",
       "      <td>9.0</td>\n",
       "      <td>72.0</td>\n",
       "      <td>81.0</td>\n",
       "    </tr>\n",
       "    <tr>\n",
       "      <th>4</th>\n",
       "      <td>JOGADOR 5</td>\n",
       "      <td>MASCULINO</td>\n",
       "      <td>03/09/1978</td>\n",
       "      <td>DAMA</td>\n",
       "      <td>URUGUAI</td>\n",
       "      <td>1.0</td>\n",
       "      <td>54.0</td>\n",
       "      <td>55.0</td>\n",
       "    </tr>\n",
       "    <tr>\n",
       "      <th>...</th>\n",
       "      <td>...</td>\n",
       "      <td>...</td>\n",
       "      <td>...</td>\n",
       "      <td>...</td>\n",
       "      <td>...</td>\n",
       "      <td>...</td>\n",
       "      <td>...</td>\n",
       "      <td>...</td>\n",
       "    </tr>\n",
       "    <tr>\n",
       "      <th>494</th>\n",
       "      <td>JOGADOR 495</td>\n",
       "      <td>FEMININO</td>\n",
       "      <td>03/06/1974</td>\n",
       "      <td>DAMA</td>\n",
       "      <td>CHILE</td>\n",
       "      <td>52.0</td>\n",
       "      <td>28.0</td>\n",
       "      <td>80.0</td>\n",
       "    </tr>\n",
       "    <tr>\n",
       "      <th>495</th>\n",
       "      <td>JOGADOR 496</td>\n",
       "      <td>MASCULINO</td>\n",
       "      <td>09/02/1959</td>\n",
       "      <td>DAMA</td>\n",
       "      <td>CHILE</td>\n",
       "      <td>13.0</td>\n",
       "      <td>51.0</td>\n",
       "      <td>64.0</td>\n",
       "    </tr>\n",
       "    <tr>\n",
       "      <th>496</th>\n",
       "      <td>JOGADOR 497</td>\n",
       "      <td>MASCULINO</td>\n",
       "      <td>06/01/1962</td>\n",
       "      <td>JOGO DA VELHA</td>\n",
       "      <td>ARGENTINA</td>\n",
       "      <td>57.0</td>\n",
       "      <td>23.0</td>\n",
       "      <td>80.0</td>\n",
       "    </tr>\n",
       "    <tr>\n",
       "      <th>497</th>\n",
       "      <td>JOGADOR 498</td>\n",
       "      <td>MASCULINO</td>\n",
       "      <td>28/09/1958</td>\n",
       "      <td>JOGO DA VELHA</td>\n",
       "      <td>CHILE</td>\n",
       "      <td>5.0</td>\n",
       "      <td>3.0</td>\n",
       "      <td>8.0</td>\n",
       "    </tr>\n",
       "    <tr>\n",
       "      <th>498</th>\n",
       "      <td>JOGADOR 499</td>\n",
       "      <td>FEMININO</td>\n",
       "      <td>08/10/2004</td>\n",
       "      <td>JOGO DA VELHA</td>\n",
       "      <td>PARAGUAI</td>\n",
       "      <td>1.0</td>\n",
       "      <td>86.0</td>\n",
       "      <td>87.0</td>\n",
       "    </tr>\n",
       "  </tbody>\n",
       "</table>\n",
       "<p>499 rows × 8 columns</p>\n",
       "</div>"
      ],
      "text/plain": [
       "         jogador     genero data_nascimento           jogo       pais  \\\n",
       "0      JOGADOR 1  MASCULINO      03/09/1990           DAMA      CHILE   \n",
       "1      JOGADOR 2   FEMININO      01/05/1986  JOGO DA VELHA      CHILE   \n",
       "2      JOGADOR 3  MASCULINO      04/10/1964  JOGO DA VELHA     BRASIL   \n",
       "3      JOGADOR 4  MASCULINO      28/09/1979  JOGO DA VELHA  ARGENTINA   \n",
       "4      JOGADOR 5  MASCULINO      03/09/1978           DAMA    URUGUAI   \n",
       "..           ...        ...             ...            ...        ...   \n",
       "494  JOGADOR 495   FEMININO      03/06/1974           DAMA      CHILE   \n",
       "495  JOGADOR 496  MASCULINO      09/02/1959           DAMA      CHILE   \n",
       "496  JOGADOR 497  MASCULINO      06/01/1962  JOGO DA VELHA  ARGENTINA   \n",
       "497  JOGADOR 498  MASCULINO      28/09/1958  JOGO DA VELHA      CHILE   \n",
       "498  JOGADOR 499   FEMININO      08/10/2004  JOGO DA VELHA   PARAGUAI   \n",
       "\n",
       "     num_vitorias  num_derrotas  total_partidas  \n",
       "0            14.0           0.0            14.0  \n",
       "1            39.0          20.0            59.0  \n",
       "2            26.0           3.0            29.0  \n",
       "3             9.0          72.0            81.0  \n",
       "4             1.0          54.0            55.0  \n",
       "..            ...           ...             ...  \n",
       "494          52.0          28.0            80.0  \n",
       "495          13.0          51.0            64.0  \n",
       "496          57.0          23.0            80.0  \n",
       "497           5.0           3.0             8.0  \n",
       "498           1.0          86.0            87.0  \n",
       "\n",
       "[499 rows x 8 columns]"
      ]
     },
     "execution_count": 12,
     "metadata": {},
     "output_type": "execute_result"
    }
   ],
   "source": [
    "df"
   ]
  },
  {
   "cell_type": "markdown",
   "id": "3d157cc7",
   "metadata": {},
   "source": [
    "# VENDO SE EXISTE VALORES DUPLICADOS"
   ]
  },
  {
   "cell_type": "code",
   "execution_count": 13,
   "id": "db6b4f38",
   "metadata": {},
   "outputs": [
    {
     "data": {
      "text/plain": [
       "0"
      ]
     },
     "execution_count": 13,
     "metadata": {},
     "output_type": "execute_result"
    }
   ],
   "source": [
    "df.duplicated().sum()"
   ]
  },
  {
   "cell_type": "markdown",
   "id": "5bca81eb",
   "metadata": {},
   "source": [
    "# CONSTRUINDO E POPULANDO O BANCO"
   ]
  },
  {
   "cell_type": "markdown",
   "id": "4345992e",
   "metadata": {},
   "source": [
    "1. CRIANDO BANCO DE DADOS"
   ]
  },
  {
   "cell_type": "code",
   "execution_count": null,
   "id": "eebe4a6b",
   "metadata": {},
   "outputs": [],
   "source": [
    "db_connection = mysql.connector.connect(host='localhost', user='root', password='', database='')\n",
    "cursor = db_connection.cursor()\n",
    "sql = \"CREATE DATABASE inform_jogos\"\n",
    "cursor.execute(sql)\n",
    "db_connection.close()"
   ]
  },
  {
   "cell_type": "markdown",
   "id": "550e0204",
   "metadata": {},
   "source": [
    "2. CRIANDO TABELA PAIS"
   ]
  },
  {
   "cell_type": "code",
   "execution_count": null,
   "id": "416d6da7",
   "metadata": {},
   "outputs": [],
   "source": [
    "db_connection = mysql.connector.connect(host='localhost', user='root', password='', database='inform_jogos')\n",
    "cursor = db_connection.cursor()\n",
    "sql = \"CREATE TABLE pais(cod_pais INT PRIMARY KEY AUTO_INCREMENT, nome_pais VARCHAR(45))\"\n",
    "cursor.execute(sql)\n",
    "db_connection.close()"
   ]
  },
  {
   "cell_type": "markdown",
   "id": "cdea2642",
   "metadata": {},
   "source": [
    "3. CRIANDO TABELA JOGO"
   ]
  },
  {
   "cell_type": "code",
   "execution_count": null,
   "id": "c9197a7d",
   "metadata": {},
   "outputs": [],
   "source": [
    "db_connection = mysql.connector.connect(host='localhost', user='root', password='', database='inform_jogos')\n",
    "cursor = db_connection.cursor()\n",
    "sql = \"CREATE TABLE jogo(cod_jogo INT PRIMARY KEY AUTO_INCREMENT, nome_jogo VARCHAR(45))\"\n",
    "cursor.execute(sql)\n",
    "db_connection.close()"
   ]
  },
  {
   "cell_type": "markdown",
   "id": "014552a5",
   "metadata": {},
   "source": [
    "4. CRIANDO TABELA JOGADOR"
   ]
  },
  {
   "cell_type": "code",
   "execution_count": null,
   "id": "b457e000",
   "metadata": {},
   "outputs": [],
   "source": [
    "db_connection = mysql.connector.connect(host='localhost', user='root', password='', database='inform_jogos')\n",
    "cursor = db_connection.cursor()\n",
    "sql = \"CREATE TABLE jogador(cod_jogador INT PRIMARY KEY AUTO_INCREMENT,\\\n",
    "        nome_jogador VARCHAR(45),\\\n",
    "        genero VARCHAR(45),\\\n",
    "        data_nascimento DATE,\\\n",
    "        num_vitorias INT,\\\n",
    "        num_derrotas INT,\\\n",
    "        total_partidas INT,\\\n",
    "        cod_pais INT,\\\n",
    "        cod_jogo INT\\\n",
    "        )\"\n",
    "cursor.execute(sql)\n",
    "db_connection.close()"
   ]
  },
  {
   "cell_type": "markdown",
   "id": "6fe5f4d4",
   "metadata": {},
   "source": [
    "5. CRIANDO AS CHAVES ESTRANGEIRAS"
   ]
  },
  {
   "cell_type": "code",
   "execution_count": null,
   "id": "01e5695d",
   "metadata": {},
   "outputs": [],
   "source": [
    "db_connection = mysql.connector.connect(host='localhost', user='root', password='', database='inform_jogos')\n",
    "cursor = db_connection.cursor()\n",
    "sql = \"ALTER TABLE jogador ADD FOREIGN KEY (cod_pais) REFERENCES pais (cod_pais)\"\n",
    "cursor.execute(sql)\n",
    "sql = \"ALTER TABLE jogador ADD FOREIGN KEY (cod_jogo) REFERENCES jogo (cod_jogo)\"\n",
    "cursor.execute(sql)\n",
    "db_connection.close()"
   ]
  },
  {
   "cell_type": "markdown",
   "id": "2b4bf129",
   "metadata": {},
   "source": [
    "6. POPULANDO A TABELA PAIS"
   ]
  },
  {
   "cell_type": "code",
   "execution_count": null,
   "id": "e8555c70",
   "metadata": {},
   "outputs": [],
   "source": [
    "db_connection = mysql.connector.connect(host='localhost', user='root', password='', database='inform_jogos')\n",
    "cursor = db_connection.cursor()\n",
    "pais = df['pais'].unique().tolist()\n",
    "for pa in pais:\n",
    "    sql = \"INSERT INTO pais (nome_pais) VALUES ('{}')\".format(pa)\n",
    "    cursor.execute(sql)\n",
    "    db_connection.commit()\n",
    "db_connection.close()"
   ]
  },
  {
   "cell_type": "markdown",
   "id": "a32f479c",
   "metadata": {},
   "source": [
    "7. POPULANDO A TABELA JOGO"
   ]
  },
  {
   "cell_type": "code",
   "execution_count": null,
   "id": "e3cfb05b",
   "metadata": {},
   "outputs": [],
   "source": [
    "db_connection = mysql.connector.connect(host='localhost', user='root', password='', database='inform_jogos')\n",
    "cursor = db_connection.cursor()\n",
    "pais = df['jogo'].unique().tolist()\n",
    "for pa in pais:\n",
    "    sql = \"INSERT INTO jogo (nome_jogo) VALUES ('{}')\".format(pa)\n",
    "    cursor.execute(sql)\n",
    "    db_connection.commit()\n",
    "db_connection.close()"
   ]
  },
  {
   "cell_type": "markdown",
   "id": "77526f9a",
   "metadata": {},
   "source": [
    "8. POPULANDO A TABELA JOGADOR"
   ]
  },
  {
   "cell_type": "code",
   "execution_count": 44,
   "id": "aedb63bf",
   "metadata": {
    "scrolled": false
   },
   "outputs": [],
   "source": [
    "dados = df.values.tolist()\n",
    "db_connection = mysql.connector.connect(host='localhost', user='root', password='', database='inform_jogos')\n",
    "cursor = db_connection.cursor()\n",
    "for jogador,genero,data_nascimento,jogo,pais,num_vitorias,num_derrotas,total_partidas in dados:\n",
    "    num_vitorias_ = int(num_vitorias)\n",
    "    num_derrotas_ = int(num_derrotas)\n",
    "    total_partidas_ = int(total_partidas)\n",
    "    sql = \"SELECT cod_pais FROM pais WHERE nome_pais = '{}'\".format(pais)\n",
    "    cursor.execute(sql)\n",
    "    pais_cod = cursor.fetchall()\n",
    "    sql = \"SELECT cod_jogo FROM jogo WHERE nome_jogo = '{}'\".format(jogo)\n",
    "    cursor.execute(sql)\n",
    "    jogo_cod = cursor.fetchall()\n",
    "    sql = \"SELECT DATE_FORMAT(STR_TO_DATE('{}', '%d/%m/%Y'),'%Y/%m/%d')\".format(data_nascimento)\n",
    "    cursor.execute(sql)\n",
    "    data_nascimento_ = cursor.fetchall()\n",
    "    sql = \"INSERT INTO jogador (nome_jogador,\\\n",
    "            genero,\\\n",
    "            data_nascimento,\\\n",
    "            num_vitorias,\\\n",
    "            num_derrotas,\\\n",
    "            total_partidas,\\\n",
    "            cod_pais,\\\n",
    "            cod_jogo) VALUES ('{}','{}','{}',{},{},{},{},{})\".format(jogador,genero,data_nascimento_[0][0],num_vitorias_,num_derrotas_,total_partidas_,pais_cod[0][0],jogo_cod[0][0])\n",
    "    cursor.execute(sql)\n",
    "    db_connection.commit()\n",
    "    \n",
    "db_connection.close()"
   ]
  },
  {
   "cell_type": "markdown",
   "id": "f956fda7",
   "metadata": {},
   "source": [
    "# RESPONDENDO AS PERGUNTAS"
   ]
  },
  {
   "cell_type": "markdown",
   "id": "c117a468",
   "metadata": {},
   "source": [
    "1. Qual o país que possui a segunda maior média de vitórias? No geral (independente do jogo)"
   ]
  },
  {
   "cell_type": "code",
   "execution_count": 74,
   "id": "42d268af",
   "metadata": {},
   "outputs": [
    {
     "name": "stdout",
     "output_type": "stream",
     "text": [
      "CHILE CHILE 27.8\n",
      "BRASIL BRASIL 25.34\n",
      "ARGENTINA ARGENTINA 25.89772727272727272727272727\n",
      "URUGUAI URUGUAI 23.94382022471910112359550562\n",
      "PARAGUAI PARAGUAI 22.58196721311475409836065574\n"
     ]
    }
   ],
   "source": [
    "db_connection = mysql.connector.connect(host='localhost', user='root', password='', database='inform_jogos')\n",
    "cursor = db_connection.cursor()\n",
    "sql = \"SELECT pais.nome_pais, sum(jogador.num_vitorias) FROM pais INNER\\\n",
    "        JOIN jogador ON pais.cod_pais = jogador.cod_pais\\\n",
    "        GROUP BY pais.nome_pais\"\n",
    "cursor.execute(sql)\n",
    "resp = cursor.fetchall()\n",
    "sql = \"SELECT pais.nome_pais, count(jogador.cod_pais) FROM pais INNER\\\n",
    "        JOIN jogador ON pais.cod_pais = jogador.cod_pais\\\n",
    "        GROUP BY pais.nome_pais\"\n",
    "cursor.execute(sql)\n",
    "resp_ = cursor.fetchall()\n",
    "for x,z in zip(resp,resp_):\n",
    "    print(x[0],z[0],x[1]/z[1])\n",
    "db_connection.close()"
   ]
  },
  {
   "cell_type": "markdown",
   "id": "532c3d49",
   "metadata": {},
   "source": [
    "2. Qual é a soma de derrotas do Brasil no jogo Xadrez?"
   ]
  },
  {
   "cell_type": "code",
   "execution_count": 80,
   "id": "c6c5a165",
   "metadata": {},
   "outputs": [
    {
     "name": "stdout",
     "output_type": "stream",
     "text": [
      "('BRASIL', Decimal('744'))\n",
      "('ARGENTINA', Decimal('483'))\n",
      "('CHILE', Decimal('793'))\n",
      "('URUGUAI', Decimal('732'))\n",
      "('PARAGUAI', Decimal('788'))\n"
     ]
    }
   ],
   "source": [
    "db_connection = mysql.connector.connect(host='localhost', user='root', password='', database='inform_jogos')\n",
    "cursor = db_connection.cursor()\n",
    "sql = \"SELECT pais.nome_pais, sum(jogador.num_derrotas) FROM pais INNER\\\n",
    "        JOIN jogador ON pais.cod_pais = jogador.cod_pais\\\n",
    "        INNER JOIN jogo ON jogador.cod_jogo = jogo.cod_jogo\\\n",
    "        WHERE jogo.nome_jogo = 'XADREZ'\\\n",
    "        GROUP BY pais.nome_pais\"\n",
    "cursor.execute(sql)\n",
    "resp = cursor.fetchall()\n",
    "for x in resp:\n",
    "    print(x)"
   ]
  },
  {
   "cell_type": "markdown",
   "id": "d27565df",
   "metadata": {},
   "source": [
    "3. Qual o jogo mais preferido entre as homens?"
   ]
  },
  {
   "cell_type": "code",
   "execution_count": 83,
   "id": "3a65a5fd",
   "metadata": {},
   "outputs": [
    {
     "name": "stdout",
     "output_type": "stream",
     "text": [
      "('MASCULINO', 'XADREZ', 84)\n",
      "('FEMININO', 'XADREZ', 87)\n",
      "('FEMININO', 'JOGO DA VELHA', 73)\n",
      "('MASCULINO', 'JOGO DA VELHA', 91)\n",
      "('MASCULINO', 'DAMA', 74)\n",
      "('FEMININO', 'DAMA', 90)\n"
     ]
    }
   ],
   "source": [
    "db_connection = mysql.connector.connect(host='localhost', user='root', password='', database='inform_jogos')\n",
    "cursor = db_connection.cursor()\n",
    "sql = \"SELECT jogador.genero, jogo.nome_jogo,count(jogo.nome_jogo) FROM pais INNER\\\n",
    "        JOIN jogador ON pais.cod_pais = jogador.cod_pais\\\n",
    "        INNER JOIN jogo ON jogador.cod_jogo = jogo.cod_jogo\\\n",
    "        GROUP BY jogador.genero, jogo.nome_jogo\"\n",
    "cursor.execute(sql)\n",
    "resp = cursor.fetchall()\n",
    "for x in resp:\n",
    "    print(x)"
   ]
  },
  {
   "cell_type": "markdown",
   "id": "1e90a815",
   "metadata": {},
   "source": [
    "4. Qual o jogo que possui o maior  número de partidas"
   ]
  },
  {
   "cell_type": "code",
   "execution_count": 86,
   "id": "b66563b6",
   "metadata": {},
   "outputs": [
    {
     "name": "stdout",
     "output_type": "stream",
     "text": [
      "('DAMA', Decimal('7998'))\n",
      "('JOGO DA VELHA', Decimal('7795'))\n",
      "('XADREZ', Decimal('8178'))\n"
     ]
    }
   ],
   "source": [
    "db_connection = mysql.connector.connect(host='localhost', user='root', password='', database='inform_jogos')\n",
    "cursor = db_connection.cursor()\n",
    "sql = \"SELECT jogo.nome_jogo ,sum(jogador.total_partidas) FROM pais INNER\\\n",
    "        JOIN jogador ON pais.cod_pais = jogador.cod_pais\\\n",
    "        INNER JOIN jogo ON jogador.cod_jogo = jogo.cod_jogo\\\n",
    "        GROUP BY jogo.nome_jogo\"\n",
    "cursor.execute(sql)\n",
    "resp = cursor.fetchall()\n",
    "for x in resp:\n",
    "    print(x)"
   ]
  }
 ],
 "metadata": {
  "kernelspec": {
   "display_name": "coleta_dados",
   "language": "python",
   "name": "coleta_dados"
  },
  "language_info": {
   "codemirror_mode": {
    "name": "ipython",
    "version": 3
   },
   "file_extension": ".py",
   "mimetype": "text/x-python",
   "name": "python",
   "nbconvert_exporter": "python",
   "pygments_lexer": "ipython3",
   "version": "3.6.8"
  }
 },
 "nbformat": 4,
 "nbformat_minor": 5
}
