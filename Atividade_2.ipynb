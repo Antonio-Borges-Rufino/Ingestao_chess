{
 "cells": [
  {
   "cell_type": "markdown",
   "id": "2d969c5c",
   "metadata": {},
   "source": [
    "# iMPORT BIBLIOTECAS"
   ]
  },
  {
   "cell_type": "code",
   "execution_count": 1,
   "id": "48d5379d",
   "metadata": {},
   "outputs": [],
   "source": [
    "import pandas as pd\n",
    "import os\n",
    "import json\n",
    "from pymongo import MongoClient"
   ]
  },
  {
   "cell_type": "markdown",
   "id": "26737be5",
   "metadata": {},
   "source": [
    "# CONECTAR AO MONGO E LER O JSON"
   ]
  },
  {
   "cell_type": "code",
   "execution_count": 2,
   "id": "f1ed1db8",
   "metadata": {},
   "outputs": [],
   "source": [
    "conn = MongoClient('localhost',27017)\n",
    "with open(\"/home/antonio/lista_jogadores_chess.json\", encoding='utf-8') as meu_json:\n",
    "    dados = json.load(meu_json)\n"
   ]
  },
  {
   "cell_type": "markdown",
   "id": "6fa98b52",
   "metadata": {},
   "source": [
    "# CRIAR UMA LISTA DE DADOS"
   ]
  },
  {
   "cell_type": "code",
   "execution_count": 3,
   "id": "4f7aad34",
   "metadata": {},
   "outputs": [],
   "source": [
    "dados = dados['user']"
   ]
  },
  {
   "cell_type": "markdown",
   "id": "fcefefab",
   "metadata": {},
   "source": [
    "# CONECTAR/CRIAR UMA BASE"
   ]
  },
  {
   "cell_type": "code",
   "execution_count": 4,
   "id": "8560a2e6",
   "metadata": {},
   "outputs": [],
   "source": [
    "db = conn.desafio_m2_atv2\n",
    "collection = db.jogadores_chess"
   ]
  },
  {
   "cell_type": "markdown",
   "id": "476cceb9",
   "metadata": {},
   "source": [
    "# INSERINDO REGISTRO NO MONGO"
   ]
  },
  {
   "cell_type": "code",
   "execution_count": 5,
   "id": "7435204e",
   "metadata": {},
   "outputs": [],
   "source": [
    "for x in dados:\n",
    "    post_id = collection.insert_one(x)\n",
    "    post_id.inserted_id"
   ]
  },
  {
   "cell_type": "markdown",
   "id": "cd423130",
   "metadata": {},
   "source": [
    "# VENDO ESTRUTURA DOS DADOS"
   ]
  },
  {
   "cell_type": "code",
   "execution_count": 6,
   "id": "f7088b8d",
   "metadata": {
    "scrolled": true
   },
   "outputs": [
    {
     "data": {
      "text/plain": [
       "[{'avatar': 'https://images.chesscomfiles.com/uploads/v1/user/18800602.e26b721f.200x200o.e738019a328a.jpeg',\n",
       "  'player_id': 18800602,\n",
       "  '@id': 'https://api.chess.com/pub/player/123lt',\n",
       "  'url': 'https://www.chess.com/member/123lt',\n",
       "  'name': 'Tingjie Lei',\n",
       "  'username': '123lt',\n",
       "  'title': 'GM',\n",
       "  'followers': 36,\n",
       "  'country': 'https://api.chess.com/pub/country/CN',\n",
       "  'last_online': 1615967972,\n",
       "  'joined': 1410059361,\n",
       "  'status': 'premium',\n",
       "  'is_streamer': False},\n",
       " {'avatar': 'https://images.chesscomfiles.com/uploads/v1/user/29499974.39041f89.200x200o.f6478a5ae8e2.jpeg',\n",
       "  'player_id': 29499974,\n",
       "  '@id': 'https://api.chess.com/pub/player/124chess',\n",
       "  'url': 'https://www.chess.com/member/124chess',\n",
       "  'name': 'Дмитрий Хегай',\n",
       "  'username': '124chess',\n",
       "  'title': 'GM',\n",
       "  'followers': 87,\n",
       "  'country': 'https://api.chess.com/pub/country/RU',\n",
       "  'location': 'Красноярск',\n",
       "  'last_online': 1616173422,\n",
       "  'joined': 1471316272,\n",
       "  'status': 'premium',\n",
       "  'is_streamer': False},\n",
       " {'avatar': 'https://images.chesscomfiles.com/uploads/v1/user/30610578.e05f2196.200x200o.3948baec540a.jpeg',\n",
       "  'player_id': 30610578,\n",
       "  '@id': 'https://api.chess.com/pub/player/1977ivan',\n",
       "  'url': 'https://www.chess.com/member/1977Ivan',\n",
       "  'name': 'Ivan Ivanisevic',\n",
       "  'username': '1977ivan',\n",
       "  'title': 'GM',\n",
       "  'followers': 120,\n",
       "  'country': 'https://api.chess.com/pub/country/RS',\n",
       "  'location': 'Belgrade',\n",
       "  'last_online': 1616110240,\n",
       "  'joined': 1477565847,\n",
       "  'status': 'premium',\n",
       "  'is_streamer': False},\n",
       " {'avatar': 'https://images.chesscomfiles.com/uploads/v1/user/13013662.cd1d1c55.200x200o.895c29f69c54.jpeg',\n",
       "  'player_id': 13013662,\n",
       "  '@id': 'https://api.chess.com/pub/player/1stsecond',\n",
       "  'url': 'https://www.chess.com/member/1stSecond',\n",
       "  'name': 'Nikita Meshkovs',\n",
       "  'username': '1stsecond',\n",
       "  'title': 'GM',\n",
       "  'followers': 716,\n",
       "  'country': 'https://api.chess.com/pub/country/LV',\n",
       "  'location': 'Riga',\n",
       "  'last_online': 1616192647,\n",
       "  'joined': 1375617889,\n",
       "  'status': 'premium',\n",
       "  'is_streamer': False},\n",
       " {'avatar': 'https://images.chesscomfiles.com/uploads/v1/user/39230304.414d9817.200x200o.46cbdae3f782.png',\n",
       "  'player_id': 39230304,\n",
       "  '@id': 'https://api.chess.com/pub/player/2nd_life',\n",
       "  'url': 'https://www.chess.com/member/2nd_life',\n",
       "  'name': 'Florian Jenni',\n",
       "  'username': '2nd_life',\n",
       "  'title': 'GM',\n",
       "  'followers': 25,\n",
       "  'country': 'https://api.chess.com/pub/country/CH',\n",
       "  'location': 'Zurich',\n",
       "  'last_online': 1615926963,\n",
       "  'joined': 1507311109,\n",
       "  'status': 'premium',\n",
       "  'is_streamer': False},\n",
       " {'avatar': 'https://images.chesscomfiles.com/uploads/v1/user/69412324.a8a2af79.200x200o.f77e8743116c.jpeg',\n",
       "  'player_id': 69412324,\n",
       "  '@id': 'https://api.chess.com/pub/player/4thd-alpeacefulmoon',\n",
       "  'url': 'https://www.chess.com/member/4thD-alpeacefulmoon',\n",
       "  'name': 'Robert Markus',\n",
       "  'username': '4thd-alpeacefulmoon',\n",
       "  'title': 'GM',\n",
       "  'followers': 2,\n",
       "  'country': 'https://api.chess.com/pub/country/RS',\n",
       "  'last_online': 1582473834,\n",
       "  'joined': 1576488055,\n",
       "  'status': 'premium',\n",
       "  'is_streamer': False},\n",
       " {'player_id': 73365394,\n",
       "  '@id': 'https://api.chess.com/pub/player/64aramis64',\n",
       "  'url': 'https://www.chess.com/member/64Aramis64',\n",
       "  'username': '64aramis64',\n",
       "  'title': 'GM',\n",
       "  'followers': 9,\n",
       "  'country': 'https://api.chess.com/pub/country/US',\n",
       "  'last_online': 1615604139,\n",
       "  'joined': 1583956667,\n",
       "  'status': 'premium',\n",
       "  'is_streamer': False},\n",
       " {'player_id': 73365768,\n",
       "  '@id': 'https://api.chess.com/pub/player/64arthos64',\n",
       "  'url': 'https://www.chess.com/member/64Arthos64',\n",
       "  'username': '64arthos64',\n",
       "  'title': 'GM',\n",
       "  'followers': 4,\n",
       "  'country': 'https://api.chess.com/pub/country/US',\n",
       "  'last_online': 1609891416,\n",
       "  'joined': 1583957153,\n",
       "  'status': 'premium',\n",
       "  'is_streamer': False},\n",
       " {'player_id': 73366590,\n",
       "  '@id': 'https://api.chess.com/pub/player/64atilla64',\n",
       "  'url': 'https://www.chess.com/member/64Atilla64',\n",
       "  'username': '64atilla64',\n",
       "  'title': 'GM',\n",
       "  'followers': 7,\n",
       "  'country': 'https://api.chess.com/pub/country/US',\n",
       "  'last_online': 1609182946,\n",
       "  'joined': 1583958360,\n",
       "  'status': 'premium',\n",
       "  'is_streamer': False},\n",
       " {'player_id': 73366504,\n",
       "  '@id': 'https://api.chess.com/pub/player/64dartagnan64',\n",
       "  'url': 'https://www.chess.com/member/64Dartagnan64',\n",
       "  'username': '64dartagnan64',\n",
       "  'title': 'GM',\n",
       "  'followers': 17,\n",
       "  'country': 'https://api.chess.com/pub/country/US',\n",
       "  'last_online': 1615758264,\n",
       "  'joined': 1583958242,\n",
       "  'status': 'premium',\n",
       "  'is_streamer': False}]"
      ]
     },
     "execution_count": 6,
     "metadata": {},
     "output_type": "execute_result"
    }
   ],
   "source": [
    "dados[0:10]"
   ]
  },
  {
   "cell_type": "markdown",
   "id": "23e9837d",
   "metadata": {},
   "source": [
    "# RESPONDENDO A PERGUNTAS"
   ]
  },
  {
   "cell_type": "markdown",
   "id": "11aafb05",
   "metadata": {},
   "source": [
    "1. Quantos registros possuem na base de dados do chess?"
   ]
  },
  {
   "cell_type": "code",
   "execution_count": 6,
   "id": "71f0a230",
   "metadata": {},
   "outputs": [
    {
     "data": {
      "text/plain": [
       "1332"
      ]
     },
     "execution_count": 6,
     "metadata": {},
     "output_type": "execute_result"
    }
   ],
   "source": [
    "db.jogadores_chess.count_documents({})"
   ]
  },
  {
   "cell_type": "markdown",
   "id": "0ce3a0e4",
   "metadata": {},
   "source": [
    "2. Quantos jogadores são de Estados Unidos?"
   ]
  },
  {
   "cell_type": "code",
   "execution_count": 24,
   "id": "4001f0f7",
   "metadata": {},
   "outputs": [
    {
     "name": "stdout",
     "output_type": "stream",
     "text": [
      "223\n"
     ]
    }
   ],
   "source": [
    "pesq = collection.find({'country': 'https://api.chess.com/pub/country/US'})\n",
    "count = 0\n",
    "for x in pesq:\n",
    "    count = count+1\n",
    "print(count)"
   ]
  },
  {
   "cell_type": "markdown",
   "id": "d0e1d138",
   "metadata": {},
   "source": [
    "3. Quantos seguidores (número de pessoas) possui o jogador Robert L. Hess?"
   ]
  },
  {
   "cell_type": "code",
   "execution_count": 10,
   "id": "98bad55d",
   "metadata": {},
   "outputs": [
    {
     "name": "stdout",
     "output_type": "stream",
     "text": [
      "23760\n",
      "23760\n"
     ]
    }
   ],
   "source": [
    "pesq = collection.find({'name': 'Robert L. Hess'})\n",
    "for x in pesq:\n",
    "    print(x['followers'])"
   ]
  },
  {
   "cell_type": "markdown",
   "id": "a6458bde",
   "metadata": {},
   "source": [
    "4. Quantas pessoas do dataset são streamer ?"
   ]
  },
  {
   "cell_type": "code",
   "execution_count": 27,
   "id": "8a475fa6",
   "metadata": {},
   "outputs": [
    {
     "name": "stdout",
     "output_type": "stream",
     "text": [
      "66\n"
     ]
    }
   ],
   "source": [
    "pesq = collection.find({'is_streamer': True})\n",
    "count = 0\n",
    "for x in pesq:\n",
    "    count = count+1\n",
    "print(count)"
   ]
  },
  {
   "cell_type": "markdown",
   "id": "91baa19f",
   "metadata": {},
   "source": [
    "5. Quais os status presentes distintos possui o dataset do chess?"
   ]
  },
  {
   "cell_type": "code",
   "execution_count": 31,
   "id": "969b1176",
   "metadata": {},
   "outputs": [
    {
     "name": "stdout",
     "output_type": "stream",
     "text": [
      "['basic', 'premium', 'staff']\n"
     ]
    }
   ],
   "source": [
    "pesq = collection.distinct('status')\n",
    "print(pesq)"
   ]
  },
  {
   "cell_type": "markdown",
   "id": "0ab5c8af",
   "metadata": {},
   "source": [
    "6. Quantos países distintos possui a base?"
   ]
  },
  {
   "cell_type": "code",
   "execution_count": 32,
   "id": "8e43e518",
   "metadata": {},
   "outputs": [
    {
     "name": "stdout",
     "output_type": "stream",
     "text": [
      "102\n"
     ]
    }
   ],
   "source": [
    "pesq = collection.distinct('country')\n",
    "count = 0\n",
    "for x in pesq:\n",
    "    count = count+1\n",
    "print(count)"
   ]
  },
  {
   "cell_type": "markdown",
   "id": "eba42f98",
   "metadata": {},
   "source": [
    "7. Quais são os jogadores que possuem mais que 30.000 seguidores"
   ]
  },
  {
   "cell_type": "code",
   "execution_count": 7,
   "id": "e2862ef4",
   "metadata": {},
   "outputs": [
    {
     "name": "stdout",
     "output_type": "stream",
     "text": [
      "Simon Williams\n",
      "Hikaru Nakamura\n",
      "Magnus Carlsen\n",
      "Simon Williams\n",
      "Hikaru Nakamura\n",
      "Magnus Carlsen\n"
     ]
    }
   ],
   "source": [
    "pesq = collection.find({'followers': {'$gt':30000}})\n",
    "for x in pesq:\n",
    "    print(x['name'])"
   ]
  },
  {
   "cell_type": "markdown",
   "id": "e8779a47",
   "metadata": {},
   "source": [
    "8. Quantas pessoas possuem o status como premium?"
   ]
  },
  {
   "cell_type": "code",
   "execution_count": 8,
   "id": "6cc6e770",
   "metadata": {},
   "outputs": [
    {
     "name": "stdout",
     "output_type": "stream",
     "text": [
      "1322\n",
      "1322\n"
     ]
    }
   ],
   "source": [
    "pesq = collection.find({'status': 'premium'})\n",
    "count = 0\n",
    "for x in pesq:\n",
    "    count = count+1\n",
    "print(count)"
   ]
  },
  {
   "cell_type": "markdown",
   "id": "7ddfde81",
   "metadata": {},
   "source": [
    "9. Qual a sigla do pais do jogador Magnus Carlsen?"
   ]
  },
  {
   "cell_type": "code",
   "execution_count": 9,
   "id": "f545277b",
   "metadata": {},
   "outputs": [
    {
     "name": "stdout",
     "output_type": "stream",
     "text": [
      "{'_id': ObjectId('632b6680b32c0af5e371537a'), 'avatar': 'https://images.chesscomfiles.com/uploads/v1/user/3889224.063b7e6f.200x200o.1c673340f1d1.jpeg', 'player_id': 3889224, '@id': 'https://api.chess.com/pub/player/magnuscarlsen', 'url': 'https://www.chess.com/member/MagnusCarlsen', 'name': 'Magnus Carlsen', 'username': 'magnuscarlsen', 'title': 'GM', 'followers': 49024, 'country': 'https://api.chess.com/pub/country/NO', 'location': 'Norway', 'last_online': 1613860758, 'joined': 1282856720, 'status': 'premium', 'is_streamer': False}\n",
      "{'_id': ObjectId('632b6680b32c0af5e371537a'), 'avatar': 'https://images.chesscomfiles.com/uploads/v1/user/3889224.063b7e6f.200x200o.1c673340f1d1.jpeg', 'player_id': 3889224, '@id': 'https://api.chess.com/pub/player/magnuscarlsen', 'url': 'https://www.chess.com/member/MagnusCarlsen', 'name': 'Magnus Carlsen', 'username': 'magnuscarlsen', 'title': 'GM', 'followers': 49024, 'country': 'https://api.chess.com/pub/country/NO', 'location': 'Norway', 'last_online': 1613860758, 'joined': 1282856720, 'status': 'premium', 'is_streamer': False}\n"
     ]
    }
   ],
   "source": [
    "pesq = collection.find_one({'name': 'Magnus Carlsen'})\n",
    "print(pesq)"
   ]
  }
 ],
 "metadata": {
  "kernelspec": {
   "display_name": "coleta_dados",
   "language": "python",
   "name": "coleta_dados"
  },
  "language_info": {
   "codemirror_mode": {
    "name": "ipython",
    "version": 3
   },
   "file_extension": ".py",
   "mimetype": "text/x-python",
   "name": "python",
   "nbconvert_exporter": "python",
   "pygments_lexer": "ipython3",
   "version": "3.6.8"
  }
 },
 "nbformat": 4,
 "nbformat_minor": 5
}
